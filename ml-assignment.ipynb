{
 "cells": [
  {
   "cell_type": "markdown",
   "id": "5f0625b0",
   "metadata": {},
   "source": [
    "## Question 4\n",
    "\n",
    "This notebook contains solutions of assignment AI 2022 Ege University\n",
    "\n",
    "05180000094 - Okan Akyol\n",
    "05190000061 - Oktay Kaloğlu \n",
    "05180000074 - Muhammed Emin Karslı"
   ]
  },
  {
   "cell_type": "markdown",
   "id": "593aec51",
   "metadata": {},
   "source": [
    "## Setup\n",
    "First, let's import a few common modules"
   ]
  },
  {
   "cell_type": "code",
   "execution_count": 1,
   "id": "02b6c389",
   "metadata": {},
   "outputs": [],
   "source": [
    "import numpy as np\n",
    "import pandas as pd\n",
    "import seaborn as sns\n",
    "import matplotlib.pyplot as plt\n",
    "%matplotlib inline\n",
    "from sklearn.model_selection import train_test_split\n",
    "from sklearn.neighbors import KNeighborsClassifier\n",
    "from sklearn.ensemble import RandomForestClassifier\n",
    "from sklearn.metrics import confusion_matrix, classification_report\n",
    "from sklearn.metrics import precision_score, recall_score, f1_score\n",
    "from sklearn.model_selection import KFold\n",
    "from sklearn.model_selection import cross_val_score\n"
   ]
  },
  {
   "cell_type": "markdown",
   "id": "cda0aaed",
   "metadata": {},
   "source": [
    "## Get the data from folder\n",
    "\n",
    "Import data"
   ]
  },
  {
   "cell_type": "code",
   "execution_count": 2,
   "id": "f213f958",
   "metadata": {},
   "outputs": [
    {
     "data": {
      "text/plain": [
       "(303, 14)"
      ]
     },
     "execution_count": 2,
     "metadata": {},
     "output_type": "execute_result"
    }
   ],
   "source": [
    "pde = pd.read_csv(\"disase.csv\")\n",
    "pde.shape"
   ]
  },
  {
   "cell_type": "markdown",
   "id": "30141d26",
   "metadata": {},
   "source": [
    "## We need to lookup a quick look at the data structure"
   ]
  },
  {
   "cell_type": "code",
   "execution_count": 3,
   "id": "4f389a6a",
   "metadata": {},
   "outputs": [
    {
     "data": {
      "text/html": [
       "<div>\n",
       "<style scoped>\n",
       "    .dataframe tbody tr th:only-of-type {\n",
       "        vertical-align: middle;\n",
       "    }\n",
       "\n",
       "    .dataframe tbody tr th {\n",
       "        vertical-align: top;\n",
       "    }\n",
       "\n",
       "    .dataframe thead th {\n",
       "        text-align: right;\n",
       "    }\n",
       "</style>\n",
       "<table border=\"1\" class=\"dataframe\">\n",
       "  <thead>\n",
       "    <tr style=\"text-align: right;\">\n",
       "      <th></th>\n",
       "      <th>age</th>\n",
       "      <th>sex</th>\n",
       "      <th>cp</th>\n",
       "      <th>trestbps</th>\n",
       "      <th>chol</th>\n",
       "      <th>fbs</th>\n",
       "      <th>restecg</th>\n",
       "      <th>thalach</th>\n",
       "      <th>exang</th>\n",
       "      <th>oldpeak</th>\n",
       "      <th>slope</th>\n",
       "      <th>ca</th>\n",
       "      <th>thal</th>\n",
       "      <th>target</th>\n",
       "    </tr>\n",
       "  </thead>\n",
       "  <tbody>\n",
       "    <tr>\n",
       "      <th>0</th>\n",
       "      <td>63</td>\n",
       "      <td>1</td>\n",
       "      <td>3</td>\n",
       "      <td>145</td>\n",
       "      <td>233</td>\n",
       "      <td>1</td>\n",
       "      <td>0</td>\n",
       "      <td>150</td>\n",
       "      <td>0</td>\n",
       "      <td>2.3</td>\n",
       "      <td>0</td>\n",
       "      <td>0</td>\n",
       "      <td>1</td>\n",
       "      <td>1</td>\n",
       "    </tr>\n",
       "    <tr>\n",
       "      <th>1</th>\n",
       "      <td>37</td>\n",
       "      <td>1</td>\n",
       "      <td>2</td>\n",
       "      <td>130</td>\n",
       "      <td>250</td>\n",
       "      <td>0</td>\n",
       "      <td>1</td>\n",
       "      <td>187</td>\n",
       "      <td>0</td>\n",
       "      <td>3.5</td>\n",
       "      <td>0</td>\n",
       "      <td>0</td>\n",
       "      <td>2</td>\n",
       "      <td>1</td>\n",
       "    </tr>\n",
       "    <tr>\n",
       "      <th>2</th>\n",
       "      <td>41</td>\n",
       "      <td>0</td>\n",
       "      <td>1</td>\n",
       "      <td>130</td>\n",
       "      <td>204</td>\n",
       "      <td>0</td>\n",
       "      <td>0</td>\n",
       "      <td>172</td>\n",
       "      <td>0</td>\n",
       "      <td>1.4</td>\n",
       "      <td>2</td>\n",
       "      <td>0</td>\n",
       "      <td>2</td>\n",
       "      <td>1</td>\n",
       "    </tr>\n",
       "    <tr>\n",
       "      <th>3</th>\n",
       "      <td>56</td>\n",
       "      <td>1</td>\n",
       "      <td>1</td>\n",
       "      <td>120</td>\n",
       "      <td>236</td>\n",
       "      <td>0</td>\n",
       "      <td>1</td>\n",
       "      <td>178</td>\n",
       "      <td>0</td>\n",
       "      <td>0.8</td>\n",
       "      <td>2</td>\n",
       "      <td>0</td>\n",
       "      <td>2</td>\n",
       "      <td>1</td>\n",
       "    </tr>\n",
       "    <tr>\n",
       "      <th>4</th>\n",
       "      <td>57</td>\n",
       "      <td>0</td>\n",
       "      <td>0</td>\n",
       "      <td>120</td>\n",
       "      <td>354</td>\n",
       "      <td>0</td>\n",
       "      <td>1</td>\n",
       "      <td>163</td>\n",
       "      <td>1</td>\n",
       "      <td>0.6</td>\n",
       "      <td>2</td>\n",
       "      <td>0</td>\n",
       "      <td>2</td>\n",
       "      <td>1</td>\n",
       "    </tr>\n",
       "  </tbody>\n",
       "</table>\n",
       "</div>"
      ],
      "text/plain": [
       "   age  sex  cp  trestbps  chol  fbs  restecg  thalach  exang  oldpeak  slope  \\\n",
       "0   63    1   3       145   233    1        0      150      0      2.3      0   \n",
       "1   37    1   2       130   250    0        1      187      0      3.5      0   \n",
       "2   41    0   1       130   204    0        0      172      0      1.4      2   \n",
       "3   56    1   1       120   236    0        1      178      0      0.8      2   \n",
       "4   57    0   0       120   354    0        1      163      1      0.6      2   \n",
       "\n",
       "   ca  thal  target  \n",
       "0   0     1       1  \n",
       "1   0     2       1  \n",
       "2   0     2       1  \n",
       "3   0     2       1  \n",
       "4   0     2       1  "
      ]
     },
     "execution_count": 3,
     "metadata": {},
     "output_type": "execute_result"
    }
   ],
   "source": [
    "pde.head()\n"
   ]
  },
  {
   "cell_type": "markdown",
   "id": "70f3b78a",
   "metadata": {},
   "source": [
    "## Quick lookup for data info"
   ]
  },
  {
   "cell_type": "code",
   "execution_count": 4,
   "id": "052a67bb",
   "metadata": {},
   "outputs": [
    {
     "name": "stdout",
     "output_type": "stream",
     "text": [
      "<class 'pandas.core.frame.DataFrame'>\n",
      "RangeIndex: 303 entries, 0 to 302\n",
      "Data columns (total 14 columns):\n",
      " #   Column    Non-Null Count  Dtype  \n",
      "---  ------    --------------  -----  \n",
      " 0   age       303 non-null    int64  \n",
      " 1   sex       303 non-null    int64  \n",
      " 2   cp        303 non-null    int64  \n",
      " 3   trestbps  303 non-null    int64  \n",
      " 4   chol      303 non-null    int64  \n",
      " 5   fbs       303 non-null    int64  \n",
      " 6   restecg   303 non-null    int64  \n",
      " 7   thalach   303 non-null    int64  \n",
      " 8   exang     303 non-null    int64  \n",
      " 9   oldpeak   303 non-null    float64\n",
      " 10  slope     303 non-null    int64  \n",
      " 11  ca        303 non-null    int64  \n",
      " 12  thal      303 non-null    int64  \n",
      " 13  target    303 non-null    int64  \n",
      "dtypes: float64(1), int64(13)\n",
      "memory usage: 33.3 KB\n"
     ]
    }
   ],
   "source": [
    "pde.info()\n"
   ]
  },
  {
   "cell_type": "code",
   "execution_count": 5,
   "id": "2413c43e",
   "metadata": {},
   "outputs": [
    {
     "data": {
      "text/plain": [
       "1    165\n",
       "0    138\n",
       "Name: target, dtype: int64"
      ]
     },
     "execution_count": 5,
     "metadata": {},
     "output_type": "execute_result"
    }
   ],
   "source": [
    "pde.target.value_counts()"
   ]
  },
  {
   "cell_type": "code",
   "execution_count": 6,
   "id": "6822c566-088b-4ed5-ac06-7ee5e1f684d6",
   "metadata": {},
   "outputs": [
    {
     "data": {
      "text/plain": [
       "1    0.544554\n",
       "0    0.455446\n",
       "Name: target, dtype: float64"
      ]
     },
     "execution_count": 6,
     "metadata": {},
     "output_type": "execute_result"
    }
   ],
   "source": [
    "pde.target.value_counts(normalize=True)"
   ]
  },
  {
   "cell_type": "markdown",
   "id": "006672ad-904c-4cb0-b2bc-85ed045a52e9",
   "metadata": {},
   "source": [
    "## Verisetini inceleyip özet bilgileri rapora yazınız: Veri (örnek) sayısını, öznitelik (girdi) sayısını, özniteliklerin neler olduğunu, sınıf sayısını ve sınıfların neler olduğunu rapora yazınız."
   ]
  },
  {
   "cell_type": "markdown",
   "id": "393b1998",
   "metadata": {},
   "source": [
    "## Data Set Proporties\n",
    "\n",
    "**Feature Count: 14** \n",
    "\n",
    "**Category Count: 2**"
   ]
  },
  {
   "cell_type": "code",
   "execution_count": 7,
   "id": "e4f988e0",
   "metadata": {},
   "outputs": [
    {
     "data": {
      "text/html": [
       "<div>\n",
       "<style scoped>\n",
       "    .dataframe tbody tr th:only-of-type {\n",
       "        vertical-align: middle;\n",
       "    }\n",
       "\n",
       "    .dataframe tbody tr th {\n",
       "        vertical-align: top;\n",
       "    }\n",
       "\n",
       "    .dataframe thead th {\n",
       "        text-align: right;\n",
       "    }\n",
       "</style>\n",
       "<table border=\"1\" class=\"dataframe\">\n",
       "  <thead>\n",
       "    <tr style=\"text-align: right;\">\n",
       "      <th></th>\n",
       "      <th>age</th>\n",
       "      <th>sex</th>\n",
       "      <th>cp</th>\n",
       "      <th>trestbps</th>\n",
       "      <th>chol</th>\n",
       "      <th>fbs</th>\n",
       "      <th>restecg</th>\n",
       "      <th>thalach</th>\n",
       "      <th>exang</th>\n",
       "      <th>oldpeak</th>\n",
       "      <th>slope</th>\n",
       "      <th>ca</th>\n",
       "      <th>thal</th>\n",
       "      <th>target</th>\n",
       "    </tr>\n",
       "  </thead>\n",
       "  <tbody>\n",
       "    <tr>\n",
       "      <th>count</th>\n",
       "      <td>303.000000</td>\n",
       "      <td>303.000000</td>\n",
       "      <td>303.000000</td>\n",
       "      <td>303.000000</td>\n",
       "      <td>303.000000</td>\n",
       "      <td>303.000000</td>\n",
       "      <td>303.000000</td>\n",
       "      <td>303.000000</td>\n",
       "      <td>303.000000</td>\n",
       "      <td>303.000000</td>\n",
       "      <td>303.000000</td>\n",
       "      <td>303.000000</td>\n",
       "      <td>303.000000</td>\n",
       "      <td>303.000000</td>\n",
       "    </tr>\n",
       "    <tr>\n",
       "      <th>mean</th>\n",
       "      <td>54.366337</td>\n",
       "      <td>0.683168</td>\n",
       "      <td>0.966997</td>\n",
       "      <td>131.623762</td>\n",
       "      <td>246.264026</td>\n",
       "      <td>0.148515</td>\n",
       "      <td>0.528053</td>\n",
       "      <td>149.646865</td>\n",
       "      <td>0.326733</td>\n",
       "      <td>1.039604</td>\n",
       "      <td>1.399340</td>\n",
       "      <td>0.729373</td>\n",
       "      <td>2.313531</td>\n",
       "      <td>0.544554</td>\n",
       "    </tr>\n",
       "    <tr>\n",
       "      <th>std</th>\n",
       "      <td>9.082101</td>\n",
       "      <td>0.466011</td>\n",
       "      <td>1.032052</td>\n",
       "      <td>17.538143</td>\n",
       "      <td>51.830751</td>\n",
       "      <td>0.356198</td>\n",
       "      <td>0.525860</td>\n",
       "      <td>22.905161</td>\n",
       "      <td>0.469794</td>\n",
       "      <td>1.161075</td>\n",
       "      <td>0.616226</td>\n",
       "      <td>1.022606</td>\n",
       "      <td>0.612277</td>\n",
       "      <td>0.498835</td>\n",
       "    </tr>\n",
       "    <tr>\n",
       "      <th>min</th>\n",
       "      <td>29.000000</td>\n",
       "      <td>0.000000</td>\n",
       "      <td>0.000000</td>\n",
       "      <td>94.000000</td>\n",
       "      <td>126.000000</td>\n",
       "      <td>0.000000</td>\n",
       "      <td>0.000000</td>\n",
       "      <td>71.000000</td>\n",
       "      <td>0.000000</td>\n",
       "      <td>0.000000</td>\n",
       "      <td>0.000000</td>\n",
       "      <td>0.000000</td>\n",
       "      <td>0.000000</td>\n",
       "      <td>0.000000</td>\n",
       "    </tr>\n",
       "    <tr>\n",
       "      <th>25%</th>\n",
       "      <td>47.500000</td>\n",
       "      <td>0.000000</td>\n",
       "      <td>0.000000</td>\n",
       "      <td>120.000000</td>\n",
       "      <td>211.000000</td>\n",
       "      <td>0.000000</td>\n",
       "      <td>0.000000</td>\n",
       "      <td>133.500000</td>\n",
       "      <td>0.000000</td>\n",
       "      <td>0.000000</td>\n",
       "      <td>1.000000</td>\n",
       "      <td>0.000000</td>\n",
       "      <td>2.000000</td>\n",
       "      <td>0.000000</td>\n",
       "    </tr>\n",
       "    <tr>\n",
       "      <th>50%</th>\n",
       "      <td>55.000000</td>\n",
       "      <td>1.000000</td>\n",
       "      <td>1.000000</td>\n",
       "      <td>130.000000</td>\n",
       "      <td>240.000000</td>\n",
       "      <td>0.000000</td>\n",
       "      <td>1.000000</td>\n",
       "      <td>153.000000</td>\n",
       "      <td>0.000000</td>\n",
       "      <td>0.800000</td>\n",
       "      <td>1.000000</td>\n",
       "      <td>0.000000</td>\n",
       "      <td>2.000000</td>\n",
       "      <td>1.000000</td>\n",
       "    </tr>\n",
       "    <tr>\n",
       "      <th>75%</th>\n",
       "      <td>61.000000</td>\n",
       "      <td>1.000000</td>\n",
       "      <td>2.000000</td>\n",
       "      <td>140.000000</td>\n",
       "      <td>274.500000</td>\n",
       "      <td>0.000000</td>\n",
       "      <td>1.000000</td>\n",
       "      <td>166.000000</td>\n",
       "      <td>1.000000</td>\n",
       "      <td>1.600000</td>\n",
       "      <td>2.000000</td>\n",
       "      <td>1.000000</td>\n",
       "      <td>3.000000</td>\n",
       "      <td>1.000000</td>\n",
       "    </tr>\n",
       "    <tr>\n",
       "      <th>max</th>\n",
       "      <td>77.000000</td>\n",
       "      <td>1.000000</td>\n",
       "      <td>3.000000</td>\n",
       "      <td>200.000000</td>\n",
       "      <td>564.000000</td>\n",
       "      <td>1.000000</td>\n",
       "      <td>2.000000</td>\n",
       "      <td>202.000000</td>\n",
       "      <td>1.000000</td>\n",
       "      <td>6.200000</td>\n",
       "      <td>2.000000</td>\n",
       "      <td>4.000000</td>\n",
       "      <td>3.000000</td>\n",
       "      <td>1.000000</td>\n",
       "    </tr>\n",
       "  </tbody>\n",
       "</table>\n",
       "</div>"
      ],
      "text/plain": [
       "              age         sex          cp    trestbps        chol         fbs  \\\n",
       "count  303.000000  303.000000  303.000000  303.000000  303.000000  303.000000   \n",
       "mean    54.366337    0.683168    0.966997  131.623762  246.264026    0.148515   \n",
       "std      9.082101    0.466011    1.032052   17.538143   51.830751    0.356198   \n",
       "min     29.000000    0.000000    0.000000   94.000000  126.000000    0.000000   \n",
       "25%     47.500000    0.000000    0.000000  120.000000  211.000000    0.000000   \n",
       "50%     55.000000    1.000000    1.000000  130.000000  240.000000    0.000000   \n",
       "75%     61.000000    1.000000    2.000000  140.000000  274.500000    0.000000   \n",
       "max     77.000000    1.000000    3.000000  200.000000  564.000000    1.000000   \n",
       "\n",
       "          restecg     thalach       exang     oldpeak       slope          ca  \\\n",
       "count  303.000000  303.000000  303.000000  303.000000  303.000000  303.000000   \n",
       "mean     0.528053  149.646865    0.326733    1.039604    1.399340    0.729373   \n",
       "std      0.525860   22.905161    0.469794    1.161075    0.616226    1.022606   \n",
       "min      0.000000   71.000000    0.000000    0.000000    0.000000    0.000000   \n",
       "25%      0.000000  133.500000    0.000000    0.000000    1.000000    0.000000   \n",
       "50%      1.000000  153.000000    0.000000    0.800000    1.000000    0.000000   \n",
       "75%      1.000000  166.000000    1.000000    1.600000    2.000000    1.000000   \n",
       "max      2.000000  202.000000    1.000000    6.200000    2.000000    4.000000   \n",
       "\n",
       "             thal      target  \n",
       "count  303.000000  303.000000  \n",
       "mean     2.313531    0.544554  \n",
       "std      0.612277    0.498835  \n",
       "min      0.000000    0.000000  \n",
       "25%      2.000000    0.000000  \n",
       "50%      2.000000    1.000000  \n",
       "75%      3.000000    1.000000  \n",
       "max      3.000000    1.000000  "
      ]
     },
     "execution_count": 7,
     "metadata": {},
     "output_type": "execute_result"
    }
   ],
   "source": [
    "pde.describe()"
   ]
  },
  {
   "cell_type": "code",
   "execution_count": 8,
   "id": "8460de50",
   "metadata": {},
   "outputs": [
    {
     "data": {
      "text/plain": [
       "<AxesSubplot:>"
      ]
     },
     "execution_count": 8,
     "metadata": {},
     "output_type": "execute_result"
    },
    {
     "data": {
      "image/png": "[encoded data removed]",
      "text/plain": [
       "<Figure size 432x288 with 1 Axes>"
      ]
     },
     "metadata": {
      "needs_background": "light"
     },
     "output_type": "display_data"
    }
   ],
   "source": [
    "# Plot the value counts with a bar graph\n",
    "pde.target.value_counts().plot(kind=\"bar\", color=[\"red\", \"green\"])"
   ]
  },
  {
   "cell_type": "markdown",
   "id": "a7321da6-32f7-4224-bb79-3b9e4dc16ebd",
   "metadata": {},
   "source": [
    "## Heart Disease Frequency according to Gender\n"
   ]
  },
  {
   "cell_type": "code",
   "execution_count": 9,
   "id": "b60bbf67-4b91-4c51-9f27-50db068a2bcc",
   "metadata": {},
   "outputs": [
    {
     "data": {
      "text/plain": [
       "1    207\n",
       "0     96\n",
       "Name: sex, dtype: int64"
      ]
     },
     "execution_count": 9,
     "metadata": {},
     "output_type": "execute_result"
    }
   ],
   "source": [
    "pde.sex.value_counts()\n",
    "\n"
   ]
  },
  {
   "cell_type": "code",
   "execution_count": 10,
   "id": "f526d577-a746-4033-bfee-9862f1c647f9",
   "metadata": {},
   "outputs": [
    {
     "data": {
      "text/html": [
       "<div>\n",
       "<style scoped>\n",
       "    .dataframe tbody tr th:only-of-type {\n",
       "        vertical-align: middle;\n",
       "    }\n",
       "\n",
       "    .dataframe tbody tr th {\n",
       "        vertical-align: top;\n",
       "    }\n",
       "\n",
       "    .dataframe thead th {\n",
       "        text-align: right;\n",
       "    }\n",
       "</style>\n",
       "<table border=\"1\" class=\"dataframe\">\n",
       "  <thead>\n",
       "    <tr style=\"text-align: right;\">\n",
       "      <th>sex</th>\n",
       "      <th>0</th>\n",
       "      <th>1</th>\n",
       "    </tr>\n",
       "    <tr>\n",
       "      <th>target</th>\n",
       "      <th></th>\n",
       "      <th></th>\n",
       "    </tr>\n",
       "  </thead>\n",
       "  <tbody>\n",
       "    <tr>\n",
       "      <th>0</th>\n",
       "      <td>24</td>\n",
       "      <td>114</td>\n",
       "    </tr>\n",
       "    <tr>\n",
       "      <th>1</th>\n",
       "      <td>72</td>\n",
       "      <td>93</td>\n",
       "    </tr>\n",
       "  </tbody>\n",
       "</table>\n",
       "</div>"
      ],
      "text/plain": [
       "sex      0    1\n",
       "target         \n",
       "0       24  114\n",
       "1       72   93"
      ]
     },
     "execution_count": 10,
     "metadata": {},
     "output_type": "execute_result"
    }
   ],
   "source": [
    "# Compare target column with sex column\n",
    "pd.crosstab(pde.target, pde.sex)"
   ]
  },
  {
   "cell_type": "markdown",
   "id": "ac8076de-e2bd-4218-ac4f-da5ac776b63f",
   "metadata": {},
   "source": [
    "What can we infer from this? \n",
    "There are about 96 women and 72 of them have a hearth disease being present, we might infer, based on this one variable if the participant is a woman she is %75 chance she has hearth disease.\n",
    "\n",
    "There is 207 men and almost half of them has heart disease so we might predict %50 chance the participant has hearth disease if participant is a male.\n",
    "\n",
    "Averaging these two values, we can assume, based on no other parameters, if there's a person, there's a 62.5% chance they have heart disease.\n"
   ]
  },
  {
   "cell_type": "markdown",
   "id": "1b22370c-7979-498d-9200-bd572b480ff7",
   "metadata": {},
   "source": [
    "## Making For Target-Sex Visualization"
   ]
  },
  {
   "cell_type": "code",
   "execution_count": 11,
   "id": "a3621c0f-76ef-4b3c-bd4b-bc0151e5325d",
   "metadata": {},
   "outputs": [
    {
     "data": {
      "image/png": "[encoded data removed]",
      "text/plain": [
       "<Figure size 720x432 with 1 Axes>"
      ]
     },
     "metadata": {
      "needs_background": "light"
     },
     "output_type": "display_data"
    }
   ],
   "source": [
    "# Create a plot\n",
    "pd.crosstab(pde.target, pde.sex).plot(kind=\"bar\", \n",
    "                                    figsize=(10,6), \n",
    "                                    color=[\"green\", \"red\"]);\n",
    "# Add some attributes to it\n",
    "plt.title(\"Heart Disease Frequency for Sex\")\n",
    "plt.xlabel(\"0 = No Disease, 1 = Disease\")\n",
    "plt.ylabel(\"Amount\")\n",
    "plt.legend([\"Female\", \"Male\"])\n",
    "plt.xticks(rotation=0); # keep the labels on the x-axis vertical\n",
    "plt.xticks(rotation=0); # keep the labels on the x-axis vertical\n"
   ]
  },
  {
   "cell_type": "markdown",
   "id": "9ad22072-fad1-4531-92f9-29048df3ab13",
   "metadata": {},
   "source": [
    "## Age vs Max Hearth Rate for Hearth Disase\n"
   ]
  },
  {
   "cell_type": "code",
   "execution_count": 12,
   "id": "ac90ce93-68d2-40bb-bd63-71953a5b6269",
   "metadata": {},
   "outputs": [
    {
     "data": {
      "image/png": "[encoded data removed]",
      "text/plain": [
       "<Figure size 720x432 with 1 Axes>"
      ]
     },
     "metadata": {
      "needs_background": "light"
     },
     "output_type": "display_data"
    }
   ],
   "source": [
    "# Create another figure\n",
    "plt.figure(figsize=(10,6))\n",
    "\n",
    "# Start with positve examples\n",
    "plt.scatter(pde.age[pde.target==1], \n",
    "            pde.thalach[pde.target==1], \n",
    "            c=\"red\") # define it as a scatter figure\n",
    "\n",
    "# Now for negative examples, we want them on the same plot, so we call plt again\n",
    "plt.scatter(pde.age[pde.target==0], \n",
    "            pde.thalach[pde.target==0], \n",
    "            c=\"green\") # axis always come as (x, y)\n",
    "\n",
    "# Add some helpful info\n",
    "plt.title(\"Heart Disease in function of Age and Max Heart Rate\")\n",
    "plt.xlabel(\"Age\")\n",
    "plt.legend([\"Disease\", \"No Disease\"])\n",
    "plt.ylabel(\"Max Heart Rate\");"
   ]
  },
  {
   "cell_type": "markdown",
   "id": "775f70a3-1c3f-4a71-8c12-e087d8711237",
   "metadata": {},
   "source": [
    "It seems the younger someone is, the higher their max heart rate and the older someone is, the more green dots there are.\n",
    "\n",
    "Both of these are observational of course, but this is what we're trying to do, build an understanding of the data."
   ]
  },
  {
   "cell_type": "markdown",
   "id": "acd46b52-fbb0-4d98-b825-a7bce99a3c2d",
   "metadata": {},
   "source": [
    "## Correlation between independent variables\n"
   ]
  },
  {
   "cell_type": "markdown",
   "id": "55ee6497-6f6a-457c-aaf1-f37a41374eb5",
   "metadata": {},
   "source": [
    "We can do this using df.corr() which will create a correlation matrix for us, in other words, a big table of numbers telling us how related each variable is the other."
   ]
  },
  {
   "cell_type": "code",
   "execution_count": 13,
   "id": "f54bd52c-db3a-40d1-a852-977aac26812d",
   "metadata": {},
   "outputs": [
    {
     "data": {
      "image/png": "[encoded data removed]",
      "text/plain": [
       "<Figure size 1080x720 with 2 Axes>"
      ]
     },
     "metadata": {
      "needs_background": "light"
     },
     "output_type": "display_data"
    }
   ],
   "source": [
    "# Let's make it look a little prettier\n",
    "corr_matrix = pde.corr()\n",
    "plt.figure(figsize=(15, 10))\n",
    "sns.heatmap(corr_matrix, \n",
    "            annot=True, \n",
    "            linewidths=0.5, \n",
    "            fmt= \".2f\", \n",
    "            cmap=\"Greens\");"
   ]
  },
  {
   "cell_type": "markdown",
   "id": "78741bf0-d750-400f-b7fe-55dc79aa6720",
   "metadata": {},
   "source": [
    "## İki farklı sınıflandırıcı (MLP Classifier YSA, SVM, k-NN, Decision Tree, Random Forest …) kullanarak sınıflandırma işlemini yapan Python kodunu yazınız."
   ]
  },
  {
   "cell_type": "markdown",
   "id": "c0537144-9c41-4bbd-81d2-5a4215fc571a",
   "metadata": {},
   "source": [
    "## Modeling\n",
    "\n",
    "**Our Problem: Given clinical parameters about a patient, can we predict whether or not they have heart disease?**\n",
    "\n",
    "We're trying to predict our target variable using all of the other variables.\n",
    "\n",
    "To do this, we'll split the target variable from the rest."
   ]
  },
  {
   "cell_type": "markdown",
   "id": "9f2deadc-4e5e-4ad3-8033-e31324654cb2",
   "metadata": {},
   "source": [
    "## Build Model With Random Forest Algorithm"
   ]
  },
  {
   "cell_type": "code",
   "execution_count": 14,
   "id": "06fcbac2-be6c-41b6-a4db-d197c308592e",
   "metadata": {},
   "outputs": [],
   "source": [
    "# Everything except target variable\n",
    "X = pde.drop(\"target\", axis=1)\n",
    "# Target variable\n",
    "y = pde.target.values\n",
    "# Split into train & test set\n",
    "X_train, X_test, y_train, y_test = train_test_split(X, # independent variables \n",
    "                                                    y, # dependent variable\n",
    "                                                    test_size = 0.2) #\n",
    "#prepare cross validation\n",
    "cv = KFold(n_splits=10, random_state=1, shuffle=True)\n",
    "clf = RandomForestClassifier(n_estimators=11)\n",
    "clf = clf.fit(X_train,y_train)\n",
    "y_preds = clf.predict(X_test)"
   ]
  },
  {
   "cell_type": "markdown",
   "id": "ddbb6aa9-8444-493e-ad6d-7fe116557feb",
   "metadata": {},
   "source": [
    "## Confusion Matrix for Random Forest Alghoritm"
   ]
  },
  {
   "cell_type": "code",
   "execution_count": 15,
   "id": "334253c4-fb11-47bb-88c2-136acc2a4ad4",
   "metadata": {},
   "outputs": [
    {
     "data": {
      "image/png": "[encoded data removed]",
      "text/plain": [
       "<Figure size 216x216 with 1 Axes>"
      ]
     },
     "metadata": {},
     "output_type": "display_data"
    }
   ],
   "source": [
    "\n",
    "sns.set(font_scale=1.5) # Increase font size\n",
    "\n",
    "def plot_conf_mat(y_test, y_preds):\n",
    "    \"\"\"\n",
    "    Plots a confusion matrix using Seaborn's heatmap().\n",
    "    \"\"\"\n",
    "    fig, ax = plt.subplots(figsize=(3, 3))\n",
    "    ax = sns.heatmap(confusion_matrix(y_test, y_preds),\n",
    "                     annot=True, # Annotate the boxes\n",
    "                     cbar=False)\n",
    "    plt.xlabel(\"true label\")\n",
    "    plt.ylabel(\"predicted label\")\n",
    "    \n",
    "plot_conf_mat(y_test, y_preds)"
   ]
  },
  {
   "cell_type": "markdown",
   "id": "21c27259-137b-4ac9-8989-05e5749b6920",
   "metadata": {},
   "source": [
    "## Classification Report"
   ]
  },
  {
   "cell_type": "code",
   "execution_count": 16,
   "id": "58e1ba39-a6c3-442e-a319-d5d33ac9627d",
   "metadata": {},
   "outputs": [
    {
     "name": "stdout",
     "output_type": "stream",
     "text": [
      "              precision    recall  f1-score   support\n",
      "\n",
      "           0       0.79      0.67      0.72        33\n",
      "           1       0.67      0.79      0.72        28\n",
      "\n",
      "    accuracy                           0.72        61\n",
      "   macro avg       0.73      0.73      0.72        61\n",
      "weighted avg       0.73      0.72      0.72        61\n",
      "\n"
     ]
    }
   ],
   "source": [
    "print(classification_report(y_test, y_preds))\n"
   ]
  },
  {
   "cell_type": "markdown",
   "id": "686c09b8-53b3-47fa-b789-ef3058a760df",
   "metadata": {},
   "source": [
    "## Sınıflandırıcıların başarılarını Accuracy, Precision ve Recall cinsinden ölçerek bir tabloya kaydediniz "
   ]
  },
  {
   "cell_type": "markdown",
   "id": "412fdf49-a45f-4d8c-9814-3bac1f6ab34e",
   "metadata": {},
   "source": [
    "## Accuracy, Precision and Recall Profiles Cross Validaton for Random Forest"
   ]
  },
  {
   "cell_type": "code",
   "execution_count": 17,
   "id": "9f75af55-4621-4dda-a6aa-42f107aa81b1",
   "metadata": {},
   "outputs": [
    {
     "name": "stdout",
     "output_type": "stream",
     "text": [
      "Random Forest Report Validaton\n",
      "===============================\n",
      "0.79 Accuracy with a standard deviation of 0.09\n",
      "0.79 Precision with a standard deviation of 0.13\n",
      "0.84 Recall with a standard deviation of 0.11\n"
     ]
    }
   ],
   "source": [
    "\n",
    "# Cross-validated accuracy score\n",
    "cv_acc = cross_val_score(clf,\n",
    "                         X,\n",
    "                         y,\n",
    "                         cv=cv, # 10-fold cross-validation\n",
    "                         scoring=\"accuracy\") # accuracy as scoring\n",
    "# Cross-validated accuracy score\n",
    "cv_precision = cross_val_score(clf,\n",
    "                         X,\n",
    "                         y,\n",
    "                         cv=cv, # 10-fold cross-validation\n",
    "                         scoring=\"precision\") # accuracy as scoring\n",
    "# Cross-validated accuracy score\n",
    "cv_recall = cross_val_score(clf,\n",
    "                         X,\n",
    "                         y,\n",
    "                         cv=cv, # 10-fold cross-validation\n",
    "                         scoring=\"recall\") # accuracy as scoring\n",
    "\n",
    "\n",
    "\n",
    "print(\"Random Forest Report Validaton\")\n",
    "print(\"===============================\")\n",
    "print(\"%0.2f Accuracy with a standard deviation of %0.2f\" % (cv_acc.mean(), cv_acc.std()))\n",
    "print(\"%0.2f Precision with a standard deviation of %0.2f\" % (cv_precision.mean(), cv_precision.std()))\n",
    "print(\"%0.2f Recall with a standard deviation of %0.2f\" % (cv_recall.mean(), cv_recall.std()))\n"
   ]
  },
  {
   "cell_type": "markdown",
   "id": "1c7b7030-7cf5-4ffc-8fc1-3dd577a6a792",
   "metadata": {},
   "source": [
    "## Build Model For KNN"
   ]
  },
  {
   "cell_type": "code",
   "execution_count": 18,
   "id": "c989e1bb-7ff8-41f9-8b66-9fece30feceb",
   "metadata": {},
   "outputs": [
    {
     "name": "stdout",
     "output_type": "stream",
     "text": [
      "              precision    recall  f1-score   support\n",
      "\n",
      "           0       0.62      0.39      0.48        33\n",
      "           1       0.50      0.71      0.59        28\n",
      "\n",
      "    accuracy                           0.54        61\n",
      "   macro avg       0.56      0.55      0.53        61\n",
      "weighted avg       0.56      0.54      0.53        61\n",
      "\n"
     ]
    },
    {
     "data": {
      "image/png": "[encoded data removed]",
      "text/plain": [
       "<Figure size 216x216 with 1 Axes>"
      ]
     },
     "metadata": {},
     "output_type": "display_data"
    }
   ],
   "source": [
    "neigh = KNeighborsClassifier(n_neighbors=11)\n",
    "#train model\n",
    "neigh = neigh.fit(X_train, y_train)\n",
    "y_preds_neigh = neigh.predict(X_test)\n",
    "y_preds_neigh# Display confusion matrix\n",
    "sns.set(font_scale=1.5) # Increase font size\n",
    "\n",
    "plot_conf_mat(y_test, y_preds_neigh)\n",
    "print(classification_report(y_test, y_preds_neigh))\n"
   ]
  },
  {
   "cell_type": "code",
   "execution_count": 19,
   "id": "26348204-c210-4b33-9316-80e6bab579c2",
   "metadata": {},
   "outputs": [
    {
     "name": "stdout",
     "output_type": "stream",
     "text": [
      "KNN Report Validaton\n",
      "===============================\n",
      "0.64 Accuracy with a standard deviation of 0.09\n",
      "0.66 Precision with a standard deviation of 0.13\n",
      "0.73 Recall with a standard deviation of 0.11\n"
     ]
    }
   ],
   "source": [
    "# Cross-validated accuracy score\n",
    "cv_acc_neigh = cross_val_score(neigh,\n",
    "                         X,\n",
    "                         y,\n",
    "                         cv=cv, # 10-fold cross-validation\n",
    "                         scoring=\"accuracy\") # accuracy as scoring\n",
    "# Cross-validated accuracy score\n",
    "cv_precision_neigh = cross_val_score(neigh,\n",
    "                         X,\n",
    "                         y,\n",
    "                         cv=cv, # 10-fold cross-validation\n",
    "                         scoring=\"precision\") # accuracy as scoring\n",
    "# Cross-validated accuracy score\n",
    "cv_recall_neigh = cross_val_score(neigh,\n",
    "                         X,\n",
    "                         y,\n",
    "                         cv=cv, # 10-fold cross-validation\n",
    "                         scoring=\"recall\") # accuracy as scoring\n",
    "\n",
    "\n",
    "\n",
    "print(\"KNN Report Validaton\")\n",
    "print(\"===============================\")\n",
    "print(\"%0.2f Accuracy with a standard deviation of %0.2f\" % (cv_acc_neigh.mean(), cv_acc.std()))\n",
    "print(\"%0.2f Precision with a standard deviation of %0.2f\" % (cv_precision_neigh.mean(), cv_precision.std()))\n",
    "print(\"%0.2f Recall with a standard deviation of %0.2f\" % (cv_recall_neigh.mean(), cv_recall.std()))\n"
   ]
  },
  {
   "cell_type": "markdown",
   "id": "9084a4d1-66e2-4b3e-ac65-6cebc0f1298c",
   "metadata": {},
   "source": [
    "## Kullanıcının girdiği yeni (sınıfı bilinmeyen) bir örneğe ilişkin özniteliklerin yani örüntünün (pattern) hangi sınıfa ait olduğunu buldurunuz.\n"
   ]
  },
  {
   "cell_type": "code",
   "execution_count": 20,
   "id": "10b63161-75c1-4104-ba4c-3e490267b472",
   "metadata": {},
   "outputs": [
    {
     "data": {
      "text/plain": [
       "array([0, 0, 0, 0, 0, 1, 0, 0, 1, 1], dtype=int64)"
      ]
     },
     "execution_count": 20,
     "metadata": {},
     "output_type": "execute_result"
    }
   ],
   "source": [
    "new_input_predict = pd.read_csv(\"input.csv\")\n",
    "y_preds_neigh = neigh.predict(new_input_predict)\n",
    "y_preds_neigh\n"
   ]
  }
 ],
 "metadata": {
  "kernelspec": {
   "display_name": "Python 3 (ipykernel)",
   "language": "python",
   "name": "python3"
  },
  "language_info": {
   "codemirror_mode": {
    "name": "ipython",
    "version": 3
   },
   "file_extension": ".py",
   "mimetype": "text/x-python",
   "name": "python",
   "nbconvert_exporter": "python",
   "pygments_lexer": "ipython3",
   "version": "3.9.7"
  }
 },
 "nbformat": 4,
 "nbformat_minor": 5
}
